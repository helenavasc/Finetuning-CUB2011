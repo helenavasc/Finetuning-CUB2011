{
 "cells": [
  {
   "cell_type": "markdown",
   "metadata": {},
   "source": [
    "<html>\n",
    "    <p>Necessary import statements!</p>\n",
    "    </html>"
   ]
  },
  {
   "cell_type": "code",
   "execution_count": null,
   "metadata": {},
   "outputs": [],
   "source": [
    "import shutil\n",
    "import os"
   ]
  },
  {
   "cell_type": "markdown",
   "metadata": {},
   "source": [
    "<html>\n",
    "    <h2>Change these variables to reflect where your train_test_split.txt, classes.txt, and images directory are!</h2>\n",
    "    </html>"
   ]
  },
  {
   "cell_type": "code",
   "execution_count": null,
   "metadata": {},
   "outputs": [],
   "source": [
    "train_test_split = '/vision2/u/helenav/CUB/CUB_200_2011/train_test_split.txt'\n",
    "classes_txt = '/vision2/u/helenav/CUB/CUB_200_2011/classes.txt'\n",
    "images_dir = '/vision2/u/helenav/CUB/CUB_200_2011/images/'"
   ]
  },
  {
   "cell_type": "markdown",
   "metadata": {},
   "source": [
    "<html>\n",
    "    <p>Necessary for knowing the train-test split!</p>\n",
    "    </html>"
   ]
  },
  {
   "cell_type": "code",
   "execution_count": null,
   "metadata": {},
   "outputs": [],
   "source": [
    "read_line = open(train_test_split)\n",
    "train_test_split_contents = read_line.readlines()\n",
    "train_test_split_contents = [int(each.split()[1]) for each in train_test_split_contents]"
   ]
  },
  {
   "cell_type": "markdown",
   "metadata": {},
   "source": [
    "<html>\n",
    "    <p>Necessary for knowing the classnames!</p>\n",
    "    </html>"
   ]
  },
  {
   "cell_type": "code",
   "execution_count": null,
   "metadata": {
    "scrolled": true
   },
   "outputs": [],
   "source": [
    "read_line = open(classes_txt)\n",
    "classes = read_line.readlines()\n",
    "classes = [each.split()[1] for each in classes]"
   ]
  },
  {
   "cell_type": "markdown",
   "metadata": {},
   "source": [
    "<html>\n",
    "    <p>Necessary for finding the filenames!</p>\n",
    "    </html>"
   ]
  },
  {
   "cell_type": "code",
   "execution_count": null,
   "metadata": {},
   "outputs": [],
   "source": [
    "all_paths = []\n",
    "for classname in classes:\n",
    "    temp_class = os.path.join(images_dir, classname)\n",
    "    all_paths.append(temp_class)\n",
    "    for file in os.walk(temp_class):\n",
    "        all_paths.append(sorted(file[2]))"
   ]
  },
  {
   "cell_type": "markdown",
   "metadata": {},
   "source": [
    "<html>\n",
    "    <p>This changes your file locations!</p>\n",
    "    </html>"
   ]
  },
  {
   "cell_type": "code",
   "execution_count": null,
   "metadata": {},
   "outputs": [],
   "source": [
    "val_dir = os.path.join(images_dir, 'val')\n",
    "train_dir = os.path.join(images_dir, 'train')\n",
    "\n",
    "os.makedirs(val_dir)\n",
    "os.makedirs(train_dir)\n",
    "\n",
    "index_of_class = -1\n",
    "index_of_image = 0\n",
    "for path in all_paths:\n",
    "    if isinstance(path, str):\n",
    "        temp_path = path.split(images_dir)\n",
    "        temp_val_path = os.path.join(val_dir, temp_path[1])\n",
    "        temp_train_path = os.path.join(train_dir, temp_path[1])\n",
    "        if os.path.isdir(temp_val_path) == False:\n",
    "            os.makedirs(temp_val_path)\n",
    "        if os.path.isdir(temp_train_path) == False:\n",
    "            os.makedirs(temp_train_path)\n",
    "        index_of_class = index_of_class + 1\n",
    "    else:\n",
    "        for image in path:\n",
    "            class_name = classes[index_of_class]\n",
    "            if a[index_of_image] == 0:\n",
    "                current_path_of_file = os.path.join(images_dir, class_name, image)\n",
    "                new_path_of_file = os.path.join(val_dir, class_name)\n",
    "                shutil.move(current_path_of_file, new_path_of_file)\n",
    "            if a[index_of_image] == 1:\n",
    "                current_path_of_file = os.path.join(images_dir, class_name, image)\n",
    "                new_path_of_file = os.path.join(train_dir, class_name)\n",
    "                shutil.move(current_path_of_file, new_path_of_file)\n",
    "            index_of_image = index_of_image + 1\n",
    "            "
   ]
  }
 ],
 "metadata": {
  "kernelspec": {
   "display_name": "Python 3",
   "language": "python",
   "name": "python3"
  },
  "language_info": {
   "codemirror_mode": {
    "name": "ipython",
    "version": 3
   },
   "file_extension": ".py",
   "mimetype": "text/x-python",
   "name": "python",
   "nbconvert_exporter": "python",
   "pygments_lexer": "ipython3",
   "version": "3.7.4"
  }
 },
 "nbformat": 4,
 "nbformat_minor": 4
}

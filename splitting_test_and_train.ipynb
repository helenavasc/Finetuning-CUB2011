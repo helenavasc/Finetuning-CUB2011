{
 "cells": [
  {
   "cell_type": "code",
   "execution_count": null,
   "metadata": {},
   "outputs": [],
   "source": [
    "''''\n",
    "Necessary Import Statements\n",
    "''''\n",
    "import os\n",
    "import shutil"
   ]
  },
  {
   "cell_type": "code",
   "execution_count": null,
   "metadata": {},
   "outputs": [],
   "source": [
    "''''\n",
    "THIS IS THE ONLY THING YOU HAVE TO CHANGE \n",
    "Change this first line to reflect your CUB_200_2011 file path \n",
    "''''\n",
    "CUB_200_2011_path = '/vision2/u/helenav/CUB/CUB_200_2011' \n",
    "\n",
    "train_test_split_txt_file = os.path.join(CUB_200_2011_path, 'train_test_split.txt')\n",
    "\n",
    "read_line = open(train_test_split_txt_file)\n",
    "val_or_train = read_line.readlines()\n",
    "val_or_train = [int(each.split()[1]) for each in val_or_train]\n",
    "\n",
    "classes_txt_file = os.path.join(CUB_200_2011_path, 'classes.txt')\n",
    "\n",
    "read_line = open(classes_txt_file)\n",
    "classes = read_line.readlines()\n",
    "classes = [each.split()[1] for each in classes]"
   ]
  },
  {
   "cell_type": "code",
   "execution_count": null,
   "metadata": {},
   "outputs": [],
   "source": [
    "''''\n",
    "Finding the necessary directory names. I could've hard-coded this, \n",
    "but didn't in the offchance that names ever get changed\n",
    "''''\n",
    "images_directory = os.path.join(CUB_200_2011_path, 'images')\n",
    "\n",
    "all_paths = []\n",
    "for classname in classes:\n",
    "    temp_class = os.path.join(images_directory, classname)\n",
    "    all_paths.append(temp_class)\n",
    "    for file in os.walk(temp_class):\n",
    "        all_paths.append(sorted(file[2]))"
   ]
  },
  {
   "cell_type": "code",
   "execution_count": null,
   "metadata": {},
   "outputs": [],
   "source": [
    "''''\n",
    "Creating necessary directories for the training and validation sets.\n",
    "''''\n",
    "training_images_path = os.path.join(CUB_200_2011_path, images, train)\n",
    "validation_images_path = os.path.join(CUB_200_2011_path, images, val)\n",
    "os.makedirs(training_images_path)\n",
    "os.makedirs(validation_images_path)"
   ]
  },
  {
   "cell_type": "code",
   "execution_count": null,
   "metadata": {},
   "outputs": [],
   "source": [
    "''''\n",
    "Moving the files that to either the training or validation folder with \n",
    "a classification folder\n",
    "''''\n",
    "index_of_class = 0\n",
    "index_of_image = 0\n",
    "for path in all_paths:\n",
    "    if isinstance(path, str):\n",
    "        print(\"Working on a new classification...\")\n",
    "        split_path = path.split(images_directory)[1]\n",
    "        temp_val_path = os.path.join(validation_images_path, split_path)\n",
    "        temp_train_path = os.path.join(training_images_path, split_path)\n",
    "        if os.path.isdir(temp_val_path) == False:\n",
    "            os.makedirs(temp_val_path)\n",
    "        if os.path.isdir(temp_train_path) == False:\n",
    "            os.makedirs(temp_train_path)\n",
    "        index_of_class = index_of_class + 1\n",
    "    else:\n",
    "        for image in path:\n",
    "            class_name = classes[index_of_class - 1]\n",
    "            if a[index_of_image] == 0:\n",
    "                current_path_of_file = os.path.join(images_directory, class_name, image)\n",
    "                new_path_of_file = os.path.join(validation_images_path, class_name)\n",
    "                shutil.move(current_path_of_file, new_path_of_file)\n",
    "            if a[index_of_image] == 1:\n",
    "                current_path_of_file = os.path.join(images_directory, class_name, image)\n",
    "                new_path_of_file = os.path.join(training_images_path, class_name)\n",
    "                shutil.move(current_path_of_file, new_path_of_file)\n",
    "            index_of_image = index_of_image + 1\n",
    "            "
   ]
  }
 ],
 "metadata": {
  "kernelspec": {
   "display_name": "Python 3",
   "language": "python",
   "name": "python3"
  },
  "language_info": {
   "codemirror_mode": {
    "name": "ipython",
    "version": 3
   },
   "file_extension": ".py",
   "mimetype": "text/x-python",
   "name": "python",
   "nbconvert_exporter": "python",
   "pygments_lexer": "ipython3",
   "version": "3.8.0"
  }
 },
 "nbformat": 4,
 "nbformat_minor": 4
}
